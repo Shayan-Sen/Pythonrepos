{
 "cells": [
  {
   "cell_type": "markdown",
   "id": "47f16364-3231-44da-95bd-d289bdefbde7",
   "metadata": {
    "jp-MarkdownHeadingCollapsed": true
   },
   "source": [
    "<p style = \"font-size:14pt\">..\\Codes-Data-Files\\Machine Learning (Codes and Data Files)\\data</p>\n",
    "<h2>CICK DOWN</h2>"
   ]
  },
  {
   "cell_type": "markdown",
   "id": "9c0acf99-6ac1-4d6e-ac4b-f64e755f7c0f",
   "metadata": {},
   "source": [
    "<table style=\"width:100% ; font-size:10pt;\">\n",
    "<tr><td>-a----</td>         <td>4/11/2024   8:44 AM</td>           <td> Advertising.csv</td></tr>\n",
    "<tr><td>-a----</td>         <td>4/11/2024   8:44 AM</td>          <td> auto-mpg.data</td></tr>\n",
    "<tr><td>-a----</td>         <td>4/11/2024   8:44 AM</td>         <td> bank.csv</td></tr>\n",
    "<tr><td>-a----</td>         <td>4/11/2024   8:44 AM </td>           <td> beer.csv</td></tr>\n",
    "<tr><td>-a----</td>         <td>4/11/2024   8:44 AM</td>         <td> BEML.csv</td></tr>\n",
    "<tr><td>-a----</td>         <td>4/11/2024   8:44 AM</td>           <td> bollywood.csv</td></tr>\n",
    "<tr><td>-a----</td>         <td>4/11/2024   8:44 AM</td>            <td> bollywoodmovies.csv</td></tr>\n",
    "<tr><td>-a----</td>         <td>4/11/2024   8:44 AM</td>            <td> breakups.csv</td></tr>\n",
    "<tr><td>-a----</td>         <td>4/11/2024   8:44 AM</td>            <td> country.csv</td></tr>\n",
    "<tr><td>-a----</td>         <td>4/11/2024   8:44 AM</td>            <td> curve.csv</td></tr>\n",
    "<tr><td>-a----</td>         <td>4/11/2024   8:44 AM</td>            <td> customerspends.csv</td></tr>\n",
    "<tr><td>-a----</td>         <td>4/11/2024   8:44 AM</td>          <td> Earnings Manipulation 220.csv</td></tr>\n",
    "<tr><td>-a----</td>         <td>4/11/2024   8:44 AM</td>          <td> forecast.xls</td></tr>\n",
    "<tr><td>-a----</td>         <td>4/11/2024   8:44 AM</td>          <td> German Credit Data.csv</td></tr>\n",
    "<tr><td>-a----</td>         <td>4/11/2024   8:44 AM</td>         <td> GLAXO.csv</td></tr>\n",
    "<tr><td>-a----</td>         <td>4/11/2024   8:44 AM</td>          <td> healthdrink.xlsx</td></tr>\n",
    "<tr><td>-a----</td>         <td>4/11/2024   8:44 AM</td>         <td> hr_data.csv</td></tr>\n",
    "<tr><td>-a----</td>         <td>4/11/2024   8:44 AM</td>           <td> Income Data.csv</td></tr>\n",
    "<tr><td>-a----</td>         <td>4/11/2024   8:44 AM</td>          <td> IPL IMB381IPL2013.csv</td></tr>\n",
    "<tr><td>-a----</td>         <td>4/11/2024   8:44 AM</td>            <td> MBA Salary.csv</td></tr>\n",
    "<tr><td>-a----</td>         <td>4/11/2024   8:44 AM</td>            <td> onestop.csv</td></tr>\n",
    "<tr><td>-a----</td>         <td>4/11/2024   8:44 AM</td>            <td> passport.csv</td></tr>\n",
    "<tr><td>-a----</td>         <td>4/11/2024   8:44 AM</td>         <td> sentiment_train</td></tr>\n",
    "<tr><td>-a----</td>         <td>4/11/2024   8:44 AM</td>          <td> store.xls</td></tr>\n",
    "<tr><td>-a----</td>         <td>4/11/2024   8:44 AM</td>            <td> trainingscores.csv</td></tr>\n",
    "<tr><td>-a----</td>         <td>4/11/2024   8:44 AM</td>            <td> vimana.csv</td></tr>\n",
    "<tr><td>-a----</td>         <td>4/11/2024   8:44 AM</td>            <td> wsb.csv</td></tr>\n",
    "</table>"
   ]
  },
  {
   "cell_type": "markdown",
   "id": "1e048aac-60e9-483d-8127-07410809b405",
   "metadata": {
    "jp-MarkdownHeadingCollapsed": true
   },
   "source": [
    "<h2><i>IMPORTS</i></h2>"
   ]
  },
  {
   "cell_type": "code",
   "execution_count": 1,
   "id": "d67b89a9-00d8-480e-a8c7-2e020a381f3f",
   "metadata": {},
   "outputs": [],
   "source": [
    "import pandas as pd\n",
    "import numpy as np\n",
    "import warnings\n",
    "from scipy import stats\n",
    "import seaborn as sn\n",
    "import matplotlib.pyplot as plt\n",
    "import math as m"
   ]
  },
  {
   "cell_type": "markdown",
   "id": "4f43e163-72dc-42ad-91b8-fddd3683a571",
   "metadata": {},
   "source": [
    "<h2>PROBABILITY AND HYPOTHESIS</h2>"
   ]
  },
  {
   "cell_type": "markdown",
   "id": "d5397703-567c-468b-a3fe-cedd731982a9",
   "metadata": {
    "jp-MarkdownHeadingCollapsed": true
   },
   "source": [
    "<h3>Binomial Distribution</h3>"
   ]
  },
  {
   "cell_type": "markdown",
   "id": "4d1938fb-dd97-436a-a808-f868c022f7d9",
   "metadata": {},
   "source": [
    "<p style = \"font-size : 15pt;\">Fashion Trends Online (FTO) is an e-commerce company that sells women apparel. It is observed that\n",
    "10% of their customers return the items purchased by them for many reasons (such as size, color, and\n",
    "material mismatch). On a specific day, 20 customers purchased items from FTO. Calculate:</p>\n",
    "<ol style = \"color: red; font-size : 14pt ; font-weight : 600 ; \">\n",
    "    <li>Probability that exactly 5 customers will return the items.</li>\n",
    "    <li>Probability that a maximum of 5 customers will return the items.</li>\n",
    "    <li>Probability that more than 5 customers will return the items purchased by them.</li>\n",
    "    <li>Average number of customers who are likely to return the items and the variance and the standard deviation of the number of returns.</li>\n",
    "</ol>"
   ]
  },
  {
   "cell_type": "code",
   "execution_count": 2,
   "id": "023933f5-d8ec-4344-a5d6-983791567b7b",
   "metadata": {},
   "outputs": [
    {
     "data": {
      "text/plain": [
       "0.031921361119954424"
      ]
     },
     "execution_count": 2,
     "metadata": {},
     "output_type": "execute_result"
    }
   ],
   "source": [
    "#Question 1\n",
    "stats.binom.pmf(5,20,0.1)"
   ]
  },
  {
   "cell_type": "code",
   "execution_count": 3,
   "id": "52637f4d-5bc8-40f1-8000-973dd26b7147",
   "metadata": {},
   "outputs": [
    {
     "data": {
      "image/png": "[encoded data removed]",
      "text/plain": [
       "<Figure size 640x480 with 1 Axes>"
      ]
     },
     "metadata": {},
     "output_type": "display_data"
    }
   ],
   "source": [
    "# range(0,21) returns all values from 0 to 20 (excluding 21)\n",
    "pmf_df = pd.DataFrame({ 'success': range(0,21),\n",
    "'pmf': list(stats.binom.pmf(range(0,21),\n",
    "20, 0.1))})\n",
    "# Creating a bar plot with number of success as x and pmf as y\n",
    "sn.barplot(x = pmf_df.success, y = pmf_df.pmf)\n",
    "plt.ylabel('pmf')\n",
    "plt.xlabel('Number of items returned');"
   ]
  },
  {
   "cell_type": "code",
   "execution_count": 4,
   "id": "45876d95-0624-449d-ad17-0dccae8f485c",
   "metadata": {},
   "outputs": [
    {
     "data": {
      "text/plain": [
       "0.988746865835491"
      ]
     },
     "execution_count": 4,
     "metadata": {},
     "output_type": "execute_result"
    }
   ],
   "source": [
    "#Question 2\n",
    "stats.binom.cdf(5,20,0.1)"
   ]
  },
  {
   "cell_type": "code",
   "execution_count": 5,
   "id": "b4b30186-7b44-4a8e-bc1b-d3e9a44aafcb",
   "metadata": {},
   "outputs": [
    {
     "data": {
      "text/plain": [
       "0.011253134164509015"
      ]
     },
     "execution_count": 5,
     "metadata": {},
     "output_type": "execute_result"
    }
   ],
   "source": [
    "#Question 3\n",
    "1-stats.binom.cdf(5,20,0.1)"
   ]
  },
  {
   "cell_type": "code",
   "execution_count": 6,
   "id": "a15a166d-be5d-478d-9c87-a715ea31f847",
   "metadata": {},
   "outputs": [
    {
     "name": "stdout",
     "output_type": "stream",
     "text": [
      "Average:  2.0  Variance: 1.8\n"
     ]
    }
   ],
   "source": [
    "#Question 4\n",
    "mean, var = stats.binom.stats(20, 0.1)\n",
    "print(\"Average: \", mean , \" Variance:\", var)"
   ]
  },
  {
   "cell_type": "code",
   "execution_count": 7,
   "id": "e3e9f45a-c925-4481-ad89-0d66644ba67b",
   "metadata": {},
   "outputs": [
    {
     "name": "stdout",
     "output_type": "stream",
     "text": [
      "0.0319213611199544\n",
      "0.031921361119954424\n"
     ]
    }
   ],
   "source": [
    "n = 20\n",
    "x = 0.1\n",
    "p = 5\n",
    "\n",
    "print((m.factorial(n)/(m.factorial(p)*m.factorial(n-p)))*(x**p)*((1-x)**(n-p)))\n",
    "print(stats.binom.pmf(5,20,0.1))"
   ]
  },
  {
   "cell_type": "markdown",
   "id": "5fb8caee-780f-4da8-b21c-2d8bbff71d9e",
   "metadata": {
    "jp-MarkdownHeadingCollapsed": true
   },
   "source": [
    "<h3>Poisson Distribution</h3>"
   ]
  },
  {
   "cell_type": "markdown",
   "id": "112bad71-c31f-4650-9ab1-242eeadcbf5a",
   "metadata": {},
   "source": [
    "<p style = \"font-size : 15pt;\">The no of calls arrving at  a call center is 10 calls per hour</p>\n",
    "<ol style = \"color: red; font-size : 14pt ; font-weight : 600 ; \">\n",
    "    <li>Calculate the probability that the number of calls will be maximum 5.</li>\n",
    "    <li>Calculate the probability that the number of calls over a 3-hour period will exceed 30.</li>\n",
    "</ol>"
   ]
  },
  {
   "cell_type": "code",
   "execution_count": 8,
   "id": "c841c1b4-0661-454c-b45c-6b502acf5c7f",
   "metadata": {},
   "outputs": [
    {
     "data": {
      "text/plain": [
       "0.06708596287903189"
      ]
     },
     "execution_count": 8,
     "metadata": {},
     "output_type": "execute_result"
    }
   ],
   "source": [
    "#Question 1\n",
    "''' Here  lambda  = 10 x  = 5 and we need to fin cdf'''\n",
    "\n",
    "stats.poisson.cdf(5,10)"
   ]
  },
  {
   "cell_type": "code",
   "execution_count": 9,
   "id": "7898fe2b-6e07-4061-80a4-e9285ab58155",
   "metadata": {},
   "outputs": [
    {
     "data": {
      "text/plain": [
       "0.45164848742208863"
      ]
     },
     "execution_count": 9,
     "metadata": {},
     "output_type": "execute_result"
    }
   ],
   "source": [
    "#Question 2\n",
    "''' Here lambda will be for 3 hours hence its 30 and x = 30\n",
    "            Now if maximum of n outcomes or in this case maximum of 30  calls will require a cdf where x = 30\n",
    "            Then for probability of exceeding n oucomes or 30 calls is 1-cdf \n",
    "'''\n",
    "\n",
    "1-stats.poisson.cdf(30,30)"
   ]
  },
  {
   "cell_type": "code",
   "execution_count": 10,
   "id": "2b4d7953-f99d-4d4f-93f8-300d54688e49",
   "metadata": {},
   "outputs": [
    {
     "data": {
      "image/png": "[encoded data removed]",
      "text/plain": [
       "<Figure size 640x480 with 1 Axes>"
      ]
     },
     "metadata": {},
     "output_type": "display_data"
    }
   ],
   "source": [
    "# Range(0,30) returns all values from 0 to 30 (excluding 30)\n",
    "pmf_df = pd.DataFrame({ 'success': range(0,30), 'pmf': list(stats.\n",
    "poisson.pmf(range(0,30), 10))})\n",
    "# Creating a barplot with number of calls as x and pmf as y\n",
    "sn.barplot(x = pmf_df.success, y = pmf_df.pmf);\n",
    "plt.xlabel('Number of Calls Received');"
   ]
  },
  {
   "cell_type": "markdown",
   "id": "8030ac10-64e6-4686-8826-74da3c5f5d30",
   "metadata": {},
   "source": [
    "<h3>Exponential Distribution</h3>"
   ]
  }
 ],
 "metadata": {
  "kernelspec": {
   "display_name": "Python 3 (ipykernel)",
   "language": "python",
   "name": "python3"
  },
  "language_info": {
   "codemirror_mode": {
    "name": "ipython",
    "version": 3
   },
   "file_extension": ".py",
   "mimetype": "text/x-python",
   "name": "python",
   "nbconvert_exporter": "python",
   "pygments_lexer": "ipython3",
   "version": "3.11.5"
  }
 },
 "nbformat": 4,
 "nbformat_minor": 5
}
